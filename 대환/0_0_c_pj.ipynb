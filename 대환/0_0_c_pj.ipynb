{
 "cells": [
  {
   "cell_type": "code",
   "execution_count": 1,
   "metadata": {},
   "outputs": [],
   "source": [
    "from selenium import webdriver\n",
    "from selenium.webdriver.chrome.service import Service\n",
    "from selenium.webdriver import ActionChains\n",
    "from selenium.webdriver.common.by import By\n",
    "from webdriver_manager.chrome import ChromeDriverManager\n",
    "from selenium.webdriver.support.ui import WebDriverWait\n",
    "from selenium.webdriver.support import expected_conditions as EC\n",
    "from selenium.webdriver.common.by import By\n",
    "from bs4 import BeautifulSoup\n",
    "\n",
    "\n",
    "driver = webdriver.Chrome(service=Service(\"../driver/chromedriver\"))\n",
    "driver.set_window_size(1200, 1000)\n",
    "driver_path = \"https://www.safetyreport.go.kr/#introduction/safeSingoStatistics\"\n",
    "driver.get(driver_path)"
   ]
  },
  {
   "cell_type": "markdown",
   "metadata": {},
   "source": []
  },
  {
   "cell_type": "code",
   "execution_count": 11,
   "metadata": {},
   "outputs": [],
   "source": [
    "#1. 기간별\n",
    "year_link = driver.find_element(By.XPATH, '''//*[@id=\"seachDateType\"]/option[2]''')\n",
    "year_link.click()"
   ]
  },
  {
   "cell_type": "code",
   "execution_count": 58,
   "metadata": {},
   "outputs": [],
   "source": [
    "#2. 지역콤보 박스 클릭\n",
    "sido_link = driver.find_element(By.XPATH, '''//*[@id=\"API_CTRD_CODE\"]''')\n",
    "sido_link.click()"
   ]
  },
  {
   "cell_type": "code",
   "execution_count": 66,
   "metadata": {},
   "outputs": [
    {
     "data": {
      "text/plain": [
       "['서울특별시',\n",
       " '부산광역시',\n",
       " '대구광역시',\n",
       " '인천광역시',\n",
       " '광주광역시',\n",
       " '대전광역시',\n",
       " '울산광역시',\n",
       " '경기도',\n",
       " '강원특별자치도',\n",
       " '충청북도',\n",
       " '충청남도',\n",
       " '전북특별자치도',\n",
       " '전라남도',\n",
       " '경상북도',\n",
       " '경상남도',\n",
       " '제주특별자치도',\n",
       " '세종특별자치시']"
      ]
     },
     "execution_count": 66,
     "metadata": {},
     "output_type": "execute_result"
    }
   ],
   "source": [
    "#3. 지역 리스트 만들기\n",
    "sido = driver.find_element(By.ID, \"API_CTRD_CODE\")\n",
    "sido_tmp = sido.find_elements(By.TAG_NAME, \"option\")\n",
    "\n",
    "# print(sido_list[0].text)\n",
    "\n",
    "# for sido_list_tmp in sido_tmp:\n",
    "#     print(sido_list_tmp.text)\n",
    "\n",
    "\n",
    "sido_list = [sido_list_tmp.text for sido_list_tmp in sido_tmp]\n",
    "sido_list = sido_list[1:]\n",
    "sido_list"
   ]
  },
  {
   "cell_type": "code",
   "execution_count": 61,
   "metadata": {},
   "outputs": [
    {
     "data": {
      "text/plain": [
       "17"
      ]
     },
     "execution_count": 61,
     "metadata": {},
     "output_type": "execute_result"
    }
   ],
   "source": [
    "len(sido_list)"
   ]
  },
  {
   "cell_type": "code",
   "execution_count": 126,
   "metadata": {},
   "outputs": [
    {
     "name": "stdout",
     "output_type": "stream",
     "text": [
      "서울특별시\n"
     ]
    }
   ],
   "source": [
    "print(sido_list[0])\n",
    "sido.send_keys(sido_list[4])"
   ]
  },
  {
   "cell_type": "code",
   "execution_count": 157,
   "metadata": {},
   "outputs": [
    {
     "data": {
      "application/vnd.jupyter.widget-view+json": {
       "model_id": "d760331726194cd89ce0d4142f051b1b",
       "version_major": 2,
       "version_minor": 0
      },
      "text/plain": [
       "  0%|          | 0/17 [00:00<?, ?it/s]"
      ]
     },
     "metadata": {},
     "output_type": "display_data"
    },
    {
     "name": "stdout",
     "output_type": "stream",
     "text": [
      "서울특별시\n",
      "부산광역시\n",
      "대구광역시\n",
      "인천광역시\n",
      "광주광역시\n",
      "대전광역시\n",
      "울산광역시\n",
      "경기도\n",
      "강원특별자치도\n",
      "충청북도\n",
      "충청남도\n",
      "전북특별자치도\n",
      "전라남도\n",
      "경상북도\n",
      "경상남도\n",
      "제주특별자치도\n",
      "세종특별자치시\n"
     ]
    }
   ],
   "source": [
    "from tqdm.notebook import tqdm\n",
    "sido = driver.find_element(By.ID, \"API_CTRD_CODE\")\n",
    "\n",
    "\n",
    "for si_li in tqdm(sido_list):\n",
    "    \n",
    "    sido.send_keys(si_li)\n",
    "    \n",
    "    time.sleep(1)\n",
    "    \n",
    "    print(si_li)\n",
    "\n"
   ]
  },
  {
   "cell_type": "code",
   "execution_count": null,
   "metadata": {},
   "outputs": [],
   "source": [
    "#2.24\n",
    "\n",
    "for gu_name in tqdm(gu_names[:3]):\n",
    "    gu = driver.find_element(By.ID, \"SIGUNGU_NM0\")\n",
    "    gu.send_keys(gu_name)\n",
    "    driver.implicitly_wait(3)\n",
    "\n",
    "    save = driver.find_element(By.ID, \"glopopd_excel\")\n",
    "    save.click()"
   ]
  },
  {
   "cell_type": "code",
   "execution_count": null,
   "metadata": {},
   "outputs": [],
   "source": [
    "2.8\n",
    "\n",
    "from selenium.webdriver.common.by import By\n",
    "\n",
    "sido = driver.find_element(By.ID, \"SIDO_NM0\")\n",
    "sido_list = sido.find_elements(By.TAG_NAME, \"option\")\n",
    "for idx, sido_name in enumerate(sido_list):\n",
    "    print(str(idx) + \". \" + sido_name.get_attribute(\"value\"))\n",
    "\n"
   ]
  },
  {
   "cell_type": "code",
   "execution_count": 3,
   "metadata": {},
   "outputs": [],
   "source": [
    "import time\n",
    "\n",
    "for _ in range(10):\n",
    "    driver.execute_script(\"window.scrollTo(0,document.body.scrollHeight)\")\n",
    "    time.sleep(1)"
   ]
  },
  {
   "cell_type": "code",
   "execution_count": null,
   "metadata": {},
   "outputs": [],
   "source": []
  },
  {
   "cell_type": "code",
   "execution_count": null,
   "metadata": {},
   "outputs": [],
   "source": [
    "#2.17 클릭!\n",
    "doc_link = driver.find_element(By.XPATH, '''//*[@id=\"main_navbar\"]/ul/li[3]/a''')\n",
    "doc_link.click()\n",
    "#2.19 search 버튼을 클릭\n",
    "\n",
    "search_btn = driver.find_element(By.XPATH, '''//*[@id=\"docsearch-1\"]/button''')\n",
    "search_btn.click()\n",
    "\n",
    "#2.20 CSS Selector(웹 디자이너가 쓰는 것)\n",
    "\n",
    "from selenium.webdriver.common.keys import Keys\n",
    "\n",
    "search_doc = driver.find_element(By.CSS_SELECTOR, \"#docsearch-input\")\n",
    "\n",
    "#2.21 검색어도 타이핑 해보자 - send_keys\n",
    "\n",
    "search_doc = driver.find_element(By.CSS_SELECTOR, \"#docsearch-input\")\n",
    "search_doc.send_keys('find elements')\n",
    "\n",
    "#2.22 엔터도 쳐야지 - Keys.ENTER\n",
    "search_doc.send_keys(Keys.ENTER)\n",
    "\n",
    "#2.24 이번에는 ID 로 가져와서 클릭 - By.ID\n",
    "\n",
    "python_tab = driver.find_element(By.ID, \"tabs-09-02-tab\")\n",
    "driver.execute_script(\"arguments[0].scrollIntoView(false);\", python_tab)\n",
    "\n",
    "#2.24 ==\n",
    "python_tab.click()\n",
    "\n",
    "#2.26 출력도 해보자!\n",
    "\n",
    "python_panel = driver.find_element(By.ID, \"tabs-09-02\")\n",
    "python_code = python_panel.find_element(By.TAG_NAME, \"code\")\n",
    "\n",
    "print(python_code.text)\n",
    "\n",
    "#2.27 다시 이전 페이지로 이동하고 - back()\n",
    "\n",
    "driver.back()\n",
    "\n",
    "\n",
    "#2.29 메뉴 목록을 가져오자 - find_elements / element, element(s) 주의  \n",
    "\n",
    "menu = driver.find_element(By.ID, \"main_navbar\")\n",
    "li_list = menu.find_elements(By.TAG_NAME, \"li\")\n",
    "for idx, li in enumerate(li_list):\n",
    "    print(\"[\" + str(idx) + \"] ====================\")\n",
    "    print(li.get_attribute('innerHTML'))\n",
    "    \n",
    "#2.30 About의 DropDown 메뉴 리스트\n",
    "# <a class=\"dropdown-item\" href=\"/about\">About Selenium</a>\n",
    "\n",
    "about = li_list[0]# q.무슨뜻??\n",
    "print(about.text) # a.About 메뉴라는 뜻\n",
    "about.click() #About 메뉴 클릭\n",
    "link_list = about.find_elements(By.CLASS_NAME, \"dropdown-item\")\n",
    "for link in link_list:\n",
    "    print(link.text)\n",
    "\n",
    "#2.31 그중 History\n",
    "\n",
    "history = about.find_element(By.LINK_TEXT, \"History\") #LINK_TEXT ??\n",
    "print(history.text)\n",
    "\n",
    "#2.32 클릭하면 이동한다.\n",
    "history.click()\n",
    "\n",
    "#2.33 다시 돌아와서\n",
    "driver.back()\n",
    "\n",
    "#2.34 이제 여러가지를 연속으로 -Action Chain\n",
    "#-Action Chain 마우스, 키보드 입력 등 연속 동작 실행\n",
    "#-About메뉴를 클릭하고, History를 클릭해보자\n",
    "\n",
    "from selenium.webdriver import ActionChains\n",
    "import time\n",
    "\n",
    "actions = ActionChains(driver)\n",
    "actions.click(about)\n",
    "actions.click(history)\n",
    "actions.perform()\n",
    "\n",
    "#2.35 Selenium 에서 Attribute 값은 어떻게? - get_attribute\n",
    "# <a class=\"dropdown-item\" href=\"/about\">About Selenium</a>\n",
    "\n",
    "driver.back()\n",
    "\n",
    "about = li_list[0]\n",
    "link_list = about.find_elements(By.CLASS_NAME, \"dropdown-item\") \n",
    "for link in link_list:\n",
    "    print(link.get_attribute(\"href\"))\n",
    "\n",
    "# 2.36 현재 페이지의 HTML 가져오기 (혼용해서 사용할 수 있음)\n",
    "\n",
    "#(• Selenium 으로 원하는 페이지로 이동한 이후 이전처럼 BeautifulSoup 으로 작업해도 된다.)\n",
    "\n",
    "from bs4 import BeautifulSoup\n",
    "\n",
    "page = driver.page_source\n",
    "soup = BeautifulSoup(page, \"html.parser\")\n",
    "print(soup.prettify())\n",
    "\n",
    "#2.38 잊지말고 종료~\n",
    "#  close(): 현재페이지만 닫기 vs quit(): 전부 닫기\n",
    "\n",
    "driver.quit()"
   ]
  }
 ],
 "metadata": {
  "kernelspec": {
   "display_name": "eda_venv",
   "language": "python",
   "name": "python3"
  },
  "language_info": {
   "codemirror_mode": {
    "name": "ipython",
    "version": 3
   },
   "file_extension": ".py",
   "mimetype": "text/x-python",
   "name": "python",
   "nbconvert_exporter": "python",
   "pygments_lexer": "ipython3",
   "version": "3.10.12"
  }
 },
 "nbformat": 4,
 "nbformat_minor": 2
}
